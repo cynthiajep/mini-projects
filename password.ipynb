{
  "nbformat": 4,
  "nbformat_minor": 0,
  "metadata": {
    "colab": {
      "provenance": []
    },
    "kernelspec": {
      "name": "python3",
      "display_name": "Python 3"
    },
    "language_info": {
      "name": "python"
    }
  },
  "cells": [
    {
      "cell_type": "markdown",
      "source": [
        "password generetor"
      ],
      "metadata": {
        "id": "at6AiKYTjvb_"
      }
    },
    {
      "cell_type": "code",
      "source": [
        "import string\n",
        "import random\n",
        "\n",
        "# Getting password length\n",
        "length = int(input(\"Enter password length: \"))\n",
        "\n",
        "print('''Choose character set for password from these :\n",
        "\t\t1. Digits\n",
        "\t\t2. Letters\n",
        "\t\t3. Special characters\n",
        "\t\t4. Exit''')\n",
        "\n",
        "characterList = \"\"\n",
        "\n",
        "# Getting character set for password\n",
        "while(True):\n",
        "\tchoice = input(\"Pick a number \") # Removed int() to allow string input\n",
        "\tif choice.isdigit(): # Check if input is a number\n",
        "\t\tchoice = int(choice) # Convert to int only if it's a number\n",
        "\t\tif(choice == 1):\n",
        "\t\t\t# Adding letters to possible characters\n",
        "\t\t\tcharacterList += string.ascii_letters\n",
        "\t\telif(choice == 2):\n",
        "\t\t\t# Adding digits to possible characters\n",
        "\t\t\tcharacterList += string.digits\n",
        "\t\telif(choice == 3):\n",
        "\t\t\t# Adding special characters to possible characters\n",
        "\t\t\tcharacterList += string.punctuation\n",
        "\t\telif(choice == 4):\n",
        "\t\t\tbreak\n",
        "\t\telse:\n",
        "\t\t\tprint(\"Please pick a valid option!\")\n",
        "\telse:\n",
        "\t\tprint(\"Invalid input. Please enter a number.\") # Inform user of invalid input\n",
        "\n",
        "\n",
        "password = []\n",
        "\n",
        "for i in range(length):\n",
        "\t# Picking a random character from our character list\n",
        "\trandomchar = random.choice(characterList)\n",
        "\t# appending a random character to password\n",
        "\tpassword.append(randomchar)\n",
        "\n",
        "# printing password as a string\n",
        "print(\"The random password is \" + \"\".join(password))"
      ],
      "metadata": {
        "colab": {
          "base_uri": "https://localhost:8080/"
        },
        "id": "_HcUf3nEjvnS",
        "outputId": "9e6d4aba-d850-4332-e205-e3973e818540"
      },
      "execution_count": null,
      "outputs": [
        {
          "output_type": "stream",
          "name": "stdout",
          "text": [
            "Enter password length: 4\n",
            "Choose character set for password from these : \n",
            "\t\t1. Digits\n",
            "\t\t2. Letters\n",
            "\t\t3. Special characters\n",
            "\t\t4. Exit\n",
            "Pick a number 1\n",
            "Pick a number 6\n",
            "Please pick a valid option!\n",
            "Pick a number 2\n",
            "Pick a number 4\n",
            "The random password is 4mdl\n"
          ]
        }
      ]
    }
  ]
}